{
  "nbformat": 4,
  "nbformat_minor": 0,
  "metadata": {
    "colab": {
      "name": "All TSOM Covers",
      "provenance": [],
      "collapsed_sections": [
        "bk0F5gIMV6v6",
        "ny6aFTrpF9l5",
        "k5EuzVQBGDDr",
        "6BwzgMMZMBrx",
        "Q95dVIvJaTS8",
        "vevpuqRj5dlZ",
        "GgfuF70L1SRN",
        "LDrQ2zSKOVKO",
        "qD6o_qJVRwo8",
        "OmytVmohe0gh",
        "q9mmemxSeawh"
      ],
      "authorship_tag": "ABX9TyOzK7lI4EGHvVmlbr1GhnCv"
    },
    "kernelspec": {
      "name": "python3",
      "display_name": "Python 3"
    },
    "language_info": {
      "name": "python"
    }
  },
  "cells": [
    {
      "cell_type": "markdown",
      "source": [
        "# The Sisters Of Mercy - Covers\n",
        "\n",
        "I analysed 996 covers of the Sisters from 820 unique artists across Spotify, Bandcamp, Soundcloud and YouTube. \n",
        "\n",
        "The TL;DR:\n",
        "\n",
        "* Most covered songs: **Lucretia** by a length, then **Alice** and **Marian**.\n",
        "* Most covered band line-up: **Floodland**, then **FALAA** and **Reptile House** jostling for second place.\n",
        "* Busiest years for covers: **2021**, **2019** and **2020** \n",
        "* Genre: **52%** are covers in the style of the original material, then **Electronic** 15%, **Metal** 10%, **Acoustic** 9%\n",
        "* Most likely to be covered by dodgy darklings: **Alice**, **Body Electric**, **Dominion**\n",
        "* Most likely to be covered by techno bois: **Dominion**, **Body Electric**, **Lucretia**\n",
        "* Most likely to be covered by angry metalheads: **No Time To Cry**, **This Corrosion**, **Black Planet**\n",
        "* Most likely to be an acoustic/unplugged cover: **Some Kind Of Stranger**, **When You Can't See Me**, **Something Fast**\n",
        "* Most diverse genres of covers: **This Corrosion**, **Temple Of Love** \n",
        "* Least diverse genres of covers: **Something Fast**, **Alice**, **Body Electric**\n",
        "* Most prolific cover artists: **Brad Salyn**, followed by **nmacog** and **botchandango**\n",
        "* No covers: **Watch** and **Phantom**, also **Driver**, **Wide Receiver**, **Better Reptile**, **I Will Call You**"
      ],
      "metadata": {
        "id": "bk0F5gIMV6v6"
      }
    },
    {
      "cell_type": "code",
      "execution_count": null,
      "metadata": {
        "id": "R02X_qRSmSdW",
        "colab": {
          "base_uri": "https://localhost:8080/"
        },
        "outputId": "24daacac-cbe6-4d4c-bc30-1bd2c774d0bc"
      },
      "outputs": [
        {
          "output_type": "stream",
          "name": "stdout",
          "text": [
            "Requirement already satisfied: requests in /usr/local/lib/python3.7/dist-packages (2.23.0)\n",
            "Requirement already satisfied: pandas in /usr/local/lib/python3.7/dist-packages (1.3.5)\n",
            "Requirement already satisfied: matplotlib in /usr/local/lib/python3.7/dist-packages (3.2.2)\n",
            "Requirement already satisfied: chardet<4,>=3.0.2 in /usr/local/lib/python3.7/dist-packages (from requests) (3.0.4)\n",
            "Requirement already satisfied: idna<3,>=2.5 in /usr/local/lib/python3.7/dist-packages (from requests) (2.10)\n",
            "Requirement already satisfied: certifi>=2017.4.17 in /usr/local/lib/python3.7/dist-packages (from requests) (2021.10.8)\n",
            "Requirement already satisfied: urllib3!=1.25.0,!=1.25.1,<1.26,>=1.21.1 in /usr/local/lib/python3.7/dist-packages (from requests) (1.24.3)\n",
            "Requirement already satisfied: numpy>=1.17.3 in /usr/local/lib/python3.7/dist-packages (from pandas) (1.21.5)\n",
            "Requirement already satisfied: python-dateutil>=2.7.3 in /usr/local/lib/python3.7/dist-packages (from pandas) (2.8.2)\n",
            "Requirement already satisfied: pytz>=2017.3 in /usr/local/lib/python3.7/dist-packages (from pandas) (2018.9)\n",
            "Requirement already satisfied: six>=1.5 in /usr/local/lib/python3.7/dist-packages (from python-dateutil>=2.7.3->pandas) (1.15.0)\n",
            "Requirement already satisfied: cycler>=0.10 in /usr/local/lib/python3.7/dist-packages (from matplotlib) (0.11.0)\n",
            "Requirement already satisfied: pyparsing!=2.0.4,!=2.1.2,!=2.1.6,>=2.0.1 in /usr/local/lib/python3.7/dist-packages (from matplotlib) (3.0.7)\n",
            "Requirement already satisfied: kiwisolver>=1.0.1 in /usr/local/lib/python3.7/dist-packages (from matplotlib) (1.3.2)\n"
          ]
        }
      ],
      "source": [
        "pip install requests pandas matplotlib"
      ]
    },
    {
      "cell_type": "code",
      "source": [
        "#from google.colab import drive\n",
        "#drive.mount('/content/drive')\n",
        "#!cp drive/'My Drive'/Music/tsom/tsom_covers.csv .\n",
        "#!ls -la"
      ],
      "metadata": {
        "id": "CyTxCZpCnWYd"
      },
      "execution_count": null,
      "outputs": []
    },
    {
      "cell_type": "code",
      "source": [
        "import requests\n",
        "\n",
        "download_url = \"https://raw.githubusercontent.com/alan-mcl/tsom-covers/main/tsom_covers.csv\"\n",
        "target_csv_path = \"tsom_covers.csv\"\n",
        "\n",
        "response = requests.get(download_url)\n",
        "response.raise_for_status()    # Check that the request was successful\n",
        "with open(target_csv_path, \"wb\") as f:\n",
        "    f.write(response.content)\n",
        "print(\"Download ready.\")\n",
        "!ls -la\n",
        "#!cat tsom_covers.csv"
      ],
      "metadata": {
        "colab": {
          "base_uri": "https://localhost:8080/"
        },
        "id": "qhv25C9ZNDoW",
        "outputId": "dee6fb42-6df9-446b-a6d9-469ae4a217c6"
      },
      "execution_count": 52,
      "outputs": [
        {
          "output_type": "stream",
          "name": "stdout",
          "text": [
            "Download ready.\n",
            "total 76\n",
            "drwxr-xr-x 1 root root  4096 Feb 24 14:17 .\n",
            "drwxr-xr-x 1 root root  4096 Feb 24 14:08 ..\n",
            "drwxr-xr-x 4 root root  4096 Feb 18 14:33 .config\n",
            "drwxr-xr-x 1 root root  4096 Feb 18 14:33 sample_data\n",
            "-rw-r--r-- 1 root root 59548 Feb 24 14:31 tsom_covers.csv\n"
          ]
        }
      ]
    },
    {
      "cell_type": "code",
      "source": [
        "import pandas as pd\n",
        "temp = pd.read_csv(\"tsom_covers.csv\", error_bad_lines=True)\n",
        "tsom = temp.copy()\n",
        "print(type(tsom))\n",
        "print(len(tsom))\n",
        "print(tsom.shape)\n",
        "pd.set_option(\"display.max_rows\", None)\n",
        "tsom.head()"
      ],
      "metadata": {
        "id": "Sd3rV4eWn0UH",
        "colab": {
          "base_uri": "https://localhost:8080/",
          "height": 335
        },
        "outputId": "77238237-ed84-45f6-bc56-fc236da037a0"
      },
      "execution_count": 53,
      "outputs": [
        {
          "output_type": "stream",
          "name": "stdout",
          "text": [
            "<class 'pandas.core.frame.DataFrame'>\n",
            "987\n",
            "(987, 9)\n"
          ]
        },
        {
          "output_type": "stream",
          "name": "stderr",
          "text": [
            "/usr/local/lib/python3.7/dist-packages/IPython/core/interactiveshell.py:2882: FutureWarning: The error_bad_lines argument has been deprecated and will be removed in a future version.\n",
            "\n",
            "\n",
            "  exec(code_obj, self.user_global_ns, self.user_ns)\n"
          ]
        },
        {
          "output_type": "execute_result",
          "data": {
            "text/html": [
              "\n",
              "  <div id=\"df-b9c0b5d5-d981-444c-a058-21a66b680943\">\n",
              "    <div class=\"colab-df-container\">\n",
              "      <div>\n",
              "<style scoped>\n",
              "    .dataframe tbody tr th:only-of-type {\n",
              "        vertical-align: middle;\n",
              "    }\n",
              "\n",
              "    .dataframe tbody tr th {\n",
              "        vertical-align: top;\n",
              "    }\n",
              "\n",
              "    .dataframe thead th {\n",
              "        text-align: right;\n",
              "    }\n",
              "</style>\n",
              "<table border=\"1\" class=\"dataframe\">\n",
              "  <thead>\n",
              "    <tr style=\"text-align: right;\">\n",
              "      <th></th>\n",
              "      <th>Artist</th>\n",
              "      <th>Title</th>\n",
              "      <th>ArtistGenre</th>\n",
              "      <th>CoverType</th>\n",
              "      <th>Year</th>\n",
              "      <th>spotify</th>\n",
              "      <th>bandcamp</th>\n",
              "      <th>soundcloud</th>\n",
              "      <th>youtube</th>\n",
              "    </tr>\n",
              "  </thead>\n",
              "  <tbody>\n",
              "    <tr>\n",
              "      <th>0</th>\n",
              "      <td>Dreadful Shadows</td>\n",
              "      <td>1959</td>\n",
              "      <td>Unspecified</td>\n",
              "      <td>Metal</td>\n",
              "      <td>2021</td>\n",
              "      <td>1</td>\n",
              "      <td>0</td>\n",
              "      <td>0</td>\n",
              "      <td>1</td>\n",
              "    </tr>\n",
              "    <tr>\n",
              "      <th>1</th>\n",
              "      <td>Mac</td>\n",
              "      <td>1959</td>\n",
              "      <td>Unspecified</td>\n",
              "      <td>Straight</td>\n",
              "      <td>2020</td>\n",
              "      <td>0</td>\n",
              "      <td>0</td>\n",
              "      <td>0</td>\n",
              "      <td>1</td>\n",
              "    </tr>\n",
              "    <tr>\n",
              "      <th>2</th>\n",
              "      <td>Mad Shad</td>\n",
              "      <td>1959</td>\n",
              "      <td>Unspecified</td>\n",
              "      <td>Acoustic</td>\n",
              "      <td>2011</td>\n",
              "      <td>0</td>\n",
              "      <td>0</td>\n",
              "      <td>0</td>\n",
              "      <td>1</td>\n",
              "    </tr>\n",
              "    <tr>\n",
              "      <th>3</th>\n",
              "      <td>madsmith</td>\n",
              "      <td>1959</td>\n",
              "      <td>Unspecified</td>\n",
              "      <td>Alternative</td>\n",
              "      <td>2016</td>\n",
              "      <td>0</td>\n",
              "      <td>0</td>\n",
              "      <td>0</td>\n",
              "      <td>1</td>\n",
              "    </tr>\n",
              "    <tr>\n",
              "      <th>4</th>\n",
              "      <td>Maryann Giselle Alienfairy</td>\n",
              "      <td>1959</td>\n",
              "      <td>Unspecified</td>\n",
              "      <td>Straight</td>\n",
              "      <td>2020</td>\n",
              "      <td>0</td>\n",
              "      <td>0</td>\n",
              "      <td>0</td>\n",
              "      <td>1</td>\n",
              "    </tr>\n",
              "  </tbody>\n",
              "</table>\n",
              "</div>\n",
              "      <button class=\"colab-df-convert\" onclick=\"convertToInteractive('df-b9c0b5d5-d981-444c-a058-21a66b680943')\"\n",
              "              title=\"Convert this dataframe to an interactive table.\"\n",
              "              style=\"display:none;\">\n",
              "        \n",
              "  <svg xmlns=\"http://www.w3.org/2000/svg\" height=\"24px\"viewBox=\"0 0 24 24\"\n",
              "       width=\"24px\">\n",
              "    <path d=\"M0 0h24v24H0V0z\" fill=\"none\"/>\n",
              "    <path d=\"M18.56 5.44l.94 2.06.94-2.06 2.06-.94-2.06-.94-.94-2.06-.94 2.06-2.06.94zm-11 1L8.5 8.5l.94-2.06 2.06-.94-2.06-.94L8.5 2.5l-.94 2.06-2.06.94zm10 10l.94 2.06.94-2.06 2.06-.94-2.06-.94-.94-2.06-.94 2.06-2.06.94z\"/><path d=\"M17.41 7.96l-1.37-1.37c-.4-.4-.92-.59-1.43-.59-.52 0-1.04.2-1.43.59L10.3 9.45l-7.72 7.72c-.78.78-.78 2.05 0 2.83L4 21.41c.39.39.9.59 1.41.59.51 0 1.02-.2 1.41-.59l7.78-7.78 2.81-2.81c.8-.78.8-2.07 0-2.86zM5.41 20L4 18.59l7.72-7.72 1.47 1.35L5.41 20z\"/>\n",
              "  </svg>\n",
              "      </button>\n",
              "      \n",
              "  <style>\n",
              "    .colab-df-container {\n",
              "      display:flex;\n",
              "      flex-wrap:wrap;\n",
              "      gap: 12px;\n",
              "    }\n",
              "\n",
              "    .colab-df-convert {\n",
              "      background-color: #E8F0FE;\n",
              "      border: none;\n",
              "      border-radius: 50%;\n",
              "      cursor: pointer;\n",
              "      display: none;\n",
              "      fill: #1967D2;\n",
              "      height: 32px;\n",
              "      padding: 0 0 0 0;\n",
              "      width: 32px;\n",
              "    }\n",
              "\n",
              "    .colab-df-convert:hover {\n",
              "      background-color: #E2EBFA;\n",
              "      box-shadow: 0px 1px 2px rgba(60, 64, 67, 0.3), 0px 1px 3px 1px rgba(60, 64, 67, 0.15);\n",
              "      fill: #174EA6;\n",
              "    }\n",
              "\n",
              "    [theme=dark] .colab-df-convert {\n",
              "      background-color: #3B4455;\n",
              "      fill: #D2E3FC;\n",
              "    }\n",
              "\n",
              "    [theme=dark] .colab-df-convert:hover {\n",
              "      background-color: #434B5C;\n",
              "      box-shadow: 0px 1px 3px 1px rgba(0, 0, 0, 0.15);\n",
              "      filter: drop-shadow(0px 1px 2px rgba(0, 0, 0, 0.3));\n",
              "      fill: #FFFFFF;\n",
              "    }\n",
              "  </style>\n",
              "\n",
              "      <script>\n",
              "        const buttonEl =\n",
              "          document.querySelector('#df-b9c0b5d5-d981-444c-a058-21a66b680943 button.colab-df-convert');\n",
              "        buttonEl.style.display =\n",
              "          google.colab.kernel.accessAllowed ? 'block' : 'none';\n",
              "\n",
              "        async function convertToInteractive(key) {\n",
              "          const element = document.querySelector('#df-b9c0b5d5-d981-444c-a058-21a66b680943');\n",
              "          const dataTable =\n",
              "            await google.colab.kernel.invokeFunction('convertToInteractive',\n",
              "                                                     [key], {});\n",
              "          if (!dataTable) return;\n",
              "\n",
              "          const docLinkHtml = 'Like what you see? Visit the ' +\n",
              "            '<a target=\"_blank\" href=https://colab.research.google.com/notebooks/data_table.ipynb>data table notebook</a>'\n",
              "            + ' to learn more about interactive tables.';\n",
              "          element.innerHTML = '';\n",
              "          dataTable['output_type'] = 'display_data';\n",
              "          await google.colab.output.renderOutput(dataTable, element);\n",
              "          const docLink = document.createElement('div');\n",
              "          docLink.innerHTML = docLinkHtml;\n",
              "          element.appendChild(docLink);\n",
              "        }\n",
              "      </script>\n",
              "    </div>\n",
              "  </div>\n",
              "  "
            ],
            "text/plain": [
              "                       Artist Title  ArtistGenre  ... bandcamp  soundcloud  youtube\n",
              "0            Dreadful Shadows  1959  Unspecified  ...        0           0        1\n",
              "1                         Mac  1959  Unspecified  ...        0           0        1\n",
              "2                    Mad Shad  1959  Unspecified  ...        0           0        1\n",
              "3                    madsmith  1959  Unspecified  ...        0           0        1\n",
              "4  Maryann Giselle Alienfairy  1959  Unspecified  ...        0           0        1\n",
              "\n",
              "[5 rows x 9 columns]"
            ]
          },
          "metadata": {},
          "execution_count": 53
        }
      ]
    },
    {
      "cell_type": "code",
      "source": [
        "tsom.info()"
      ],
      "metadata": {
        "id": "Yivpet0gqwXb",
        "colab": {
          "base_uri": "https://localhost:8080/"
        },
        "outputId": "4cb96227-1add-46ff-ec10-d73303fa6925"
      },
      "execution_count": 54,
      "outputs": [
        {
          "output_type": "stream",
          "name": "stdout",
          "text": [
            "<class 'pandas.core.frame.DataFrame'>\n",
            "RangeIndex: 987 entries, 0 to 986\n",
            "Data columns (total 9 columns):\n",
            " #   Column       Non-Null Count  Dtype \n",
            "---  ------       --------------  ----- \n",
            " 0   Artist       987 non-null    object\n",
            " 1   Title        987 non-null    object\n",
            " 2   ArtistGenre  987 non-null    object\n",
            " 3   CoverType    987 non-null    object\n",
            " 4   Year         987 non-null    int64 \n",
            " 5   spotify      987 non-null    int64 \n",
            " 6   bandcamp     987 non-null    int64 \n",
            " 7   soundcloud   987 non-null    int64 \n",
            " 8   youtube      987 non-null    int64 \n",
            "dtypes: int64(5), object(4)\n",
            "memory usage: 69.5+ KB\n"
          ]
        }
      ]
    },
    {
      "cell_type": "code",
      "source": [
        "tsom.describe(include=object)"
      ],
      "metadata": {
        "id": "KXxw0kr2rMqr",
        "colab": {
          "base_uri": "https://localhost:8080/",
          "height": 175
        },
        "outputId": "aa27143d-6694-4452-b172-377b94a9e5e6"
      },
      "execution_count": 55,
      "outputs": [
        {
          "output_type": "execute_result",
          "data": {
            "text/html": [
              "\n",
              "  <div id=\"df-f2dad03c-2ebd-4bde-977e-83cd55c02cb6\">\n",
              "    <div class=\"colab-df-container\">\n",
              "      <div>\n",
              "<style scoped>\n",
              "    .dataframe tbody tr th:only-of-type {\n",
              "        vertical-align: middle;\n",
              "    }\n",
              "\n",
              "    .dataframe tbody tr th {\n",
              "        vertical-align: top;\n",
              "    }\n",
              "\n",
              "    .dataframe thead th {\n",
              "        text-align: right;\n",
              "    }\n",
              "</style>\n",
              "<table border=\"1\" class=\"dataframe\">\n",
              "  <thead>\n",
              "    <tr style=\"text-align: right;\">\n",
              "      <th></th>\n",
              "      <th>Artist</th>\n",
              "      <th>Title</th>\n",
              "      <th>ArtistGenre</th>\n",
              "      <th>CoverType</th>\n",
              "    </tr>\n",
              "  </thead>\n",
              "  <tbody>\n",
              "    <tr>\n",
              "      <th>count</th>\n",
              "      <td>987</td>\n",
              "      <td>987</td>\n",
              "      <td>987</td>\n",
              "      <td>987</td>\n",
              "    </tr>\n",
              "    <tr>\n",
              "      <th>unique</th>\n",
              "      <td>818</td>\n",
              "      <td>70</td>\n",
              "      <td>39</td>\n",
              "      <td>17</td>\n",
              "    </tr>\n",
              "    <tr>\n",
              "      <th>top</th>\n",
              "      <td>Brad Salyn</td>\n",
              "      <td>Lucretia, My Reflection</td>\n",
              "      <td>Unspecified</td>\n",
              "      <td>Straight</td>\n",
              "    </tr>\n",
              "    <tr>\n",
              "      <th>freq</th>\n",
              "      <td>20</td>\n",
              "      <td>154</td>\n",
              "      <td>508</td>\n",
              "      <td>518</td>\n",
              "    </tr>\n",
              "  </tbody>\n",
              "</table>\n",
              "</div>\n",
              "      <button class=\"colab-df-convert\" onclick=\"convertToInteractive('df-f2dad03c-2ebd-4bde-977e-83cd55c02cb6')\"\n",
              "              title=\"Convert this dataframe to an interactive table.\"\n",
              "              style=\"display:none;\">\n",
              "        \n",
              "  <svg xmlns=\"http://www.w3.org/2000/svg\" height=\"24px\"viewBox=\"0 0 24 24\"\n",
              "       width=\"24px\">\n",
              "    <path d=\"M0 0h24v24H0V0z\" fill=\"none\"/>\n",
              "    <path d=\"M18.56 5.44l.94 2.06.94-2.06 2.06-.94-2.06-.94-.94-2.06-.94 2.06-2.06.94zm-11 1L8.5 8.5l.94-2.06 2.06-.94-2.06-.94L8.5 2.5l-.94 2.06-2.06.94zm10 10l.94 2.06.94-2.06 2.06-.94-2.06-.94-.94-2.06-.94 2.06-2.06.94z\"/><path d=\"M17.41 7.96l-1.37-1.37c-.4-.4-.92-.59-1.43-.59-.52 0-1.04.2-1.43.59L10.3 9.45l-7.72 7.72c-.78.78-.78 2.05 0 2.83L4 21.41c.39.39.9.59 1.41.59.51 0 1.02-.2 1.41-.59l7.78-7.78 2.81-2.81c.8-.78.8-2.07 0-2.86zM5.41 20L4 18.59l7.72-7.72 1.47 1.35L5.41 20z\"/>\n",
              "  </svg>\n",
              "      </button>\n",
              "      \n",
              "  <style>\n",
              "    .colab-df-container {\n",
              "      display:flex;\n",
              "      flex-wrap:wrap;\n",
              "      gap: 12px;\n",
              "    }\n",
              "\n",
              "    .colab-df-convert {\n",
              "      background-color: #E8F0FE;\n",
              "      border: none;\n",
              "      border-radius: 50%;\n",
              "      cursor: pointer;\n",
              "      display: none;\n",
              "      fill: #1967D2;\n",
              "      height: 32px;\n",
              "      padding: 0 0 0 0;\n",
              "      width: 32px;\n",
              "    }\n",
              "\n",
              "    .colab-df-convert:hover {\n",
              "      background-color: #E2EBFA;\n",
              "      box-shadow: 0px 1px 2px rgba(60, 64, 67, 0.3), 0px 1px 3px 1px rgba(60, 64, 67, 0.15);\n",
              "      fill: #174EA6;\n",
              "    }\n",
              "\n",
              "    [theme=dark] .colab-df-convert {\n",
              "      background-color: #3B4455;\n",
              "      fill: #D2E3FC;\n",
              "    }\n",
              "\n",
              "    [theme=dark] .colab-df-convert:hover {\n",
              "      background-color: #434B5C;\n",
              "      box-shadow: 0px 1px 3px 1px rgba(0, 0, 0, 0.15);\n",
              "      filter: drop-shadow(0px 1px 2px rgba(0, 0, 0, 0.3));\n",
              "      fill: #FFFFFF;\n",
              "    }\n",
              "  </style>\n",
              "\n",
              "      <script>\n",
              "        const buttonEl =\n",
              "          document.querySelector('#df-f2dad03c-2ebd-4bde-977e-83cd55c02cb6 button.colab-df-convert');\n",
              "        buttonEl.style.display =\n",
              "          google.colab.kernel.accessAllowed ? 'block' : 'none';\n",
              "\n",
              "        async function convertToInteractive(key) {\n",
              "          const element = document.querySelector('#df-f2dad03c-2ebd-4bde-977e-83cd55c02cb6');\n",
              "          const dataTable =\n",
              "            await google.colab.kernel.invokeFunction('convertToInteractive',\n",
              "                                                     [key], {});\n",
              "          if (!dataTable) return;\n",
              "\n",
              "          const docLinkHtml = 'Like what you see? Visit the ' +\n",
              "            '<a target=\"_blank\" href=https://colab.research.google.com/notebooks/data_table.ipynb>data table notebook</a>'\n",
              "            + ' to learn more about interactive tables.';\n",
              "          element.innerHTML = '';\n",
              "          dataTable['output_type'] = 'display_data';\n",
              "          await google.colab.output.renderOutput(dataTable, element);\n",
              "          const docLink = document.createElement('div');\n",
              "          docLink.innerHTML = docLinkHtml;\n",
              "          element.appendChild(docLink);\n",
              "        }\n",
              "      </script>\n",
              "    </div>\n",
              "  </div>\n",
              "  "
            ],
            "text/plain": [
              "            Artist                    Title  ArtistGenre CoverType\n",
              "count          987                      987          987       987\n",
              "unique         818                       70           39        17\n",
              "top     Brad Salyn  Lucretia, My Reflection  Unspecified  Straight\n",
              "freq            20                      154          508       518"
            ]
          },
          "metadata": {},
          "execution_count": 55
        }
      ]
    },
    {
      "cell_type": "code",
      "source": [
        "all_titles = [\"1959\", \"A Rock And A Hard Place\", \"Adrenochrome\", \"Afterhours\", \"Alice\", \"Amphetamine Logic\", \"Anaconda\", \"Arms\", \"Better Reptile\", \"Black Planet\", \"Black Sail\", \"Blood Money\", \"Body And Soul\", \"Body Electric\", \"Burn\", \"Bury Me Deep\", \"But Genevieve\", \"Colours\", \"Come Together\", \"Crash And Burn\", \"Detonation Boulevard\", \"Doctor Jeep\", \"Dominion\", \"Driven Like The Snow\", \"Driver\", \"Finland Red, Egypt White\", \"First And Last And Always\", \"Fix\", \"Flood I\", \"Flood II\", \"Floorshow\", \"Giving Ground\", \"Good Things\", \"Heartland\", \"I Have Slept With All The Girls In Berlin\", \"I Was Wrong\", \"I Will Call You\", \"Jihad\", \"Kiss The Carpet\", \"Lights\", \"Lucretia, My Reflection\", \"Marian\", \"Mother Russia\", \"More\", \"Never Land\", \"Nine While Nine\", \"No Time To Cry\", \"On The Wire\", \"Phantom\", \"Poison Door\", \"Possession\", \"Rain From Heaven\", \"Ribbons\", \"Romeo Down\", \"Show Me\", \"Some Kind Of Stranger\", \"Something Fast\", \"Still\", \"Summer\", \"Temple Of Love\", \"The Damage Done\", \"This Corrosion\", \"Torch\", \"Train\", \"Under The Gun\", \"Valentine\", \"Vision Thing\", \"Walk Away\", \"War On Drugs\", \"Watch\", \"We Are The Same, Susanne\", \"When You Don't See Me\", \"Wide Receiver\", \"Will I Dream?\", \"You Could Be The One\"]\n",
        "lineup_map = { \\\n",
        "              \"1959\" : \"Floodland\",\n",
        "\"A Rock And A Hard Place\" : \"FALAA\",\n",
        "\"Adrenochrome\" : \"Reptile House\",\n",
        "\"Afterhours\" : \"FALAA\",\n",
        "\"Alice\" : \"Reptile House\",\n",
        "\"Amphetamine Logic\" : \"FALAA\",\n",
        "\"Anaconda\" : \"Reptile House\",\n",
        "\"Arms\" : \"Post-VT Live Only\",\n",
        "\"Better Reptile\" : \"Post-VT Live Only\",\n",
        "\"Black Planet\" : \"FALAA\",\n",
        "\"Black Sail\" : \"Post-VT Live Only\",\n",
        "\"Blood Money\" : \"FALAA\",\n",
        "\"Body And Soul\" : \"FALAA\",\n",
        "\"Body Electric\" : \"Reptile House\",\n",
        "\"Burn\" : \"Reptile House\",\n",
        "\"Bury Me Deep\" : \"FALAA\",\n",
        "\"But Genevieve\" : \"Post-VT Live Only\",\n",
        "\"Colours\" : \"Floodland\",\n",
        "\"Come Together\" : \"Post-VT Live Only\",\n",
        "\"Crash And Burn\" : \"Post-VT Live Only\",\n",
        "\"Detonation Boulevard\" : \"Vision Thing\",\n",
        "\"Doctor Jeep\" : \"Vision Thing\",\n",
        "\"Dominion\" : \"Floodland\",\n",
        "\"Driven Like The Snow\" : \"Floodland\",\n",
        "\"Driver\" : \"Reptile House\",\n",
        "\"Finland Red, Egypt White\" : \"Floodland\",\n",
        "\"First And Last And Always\" : \"FALAA\",\n",
        "\"Fix\" : \"Reptile House\",\n",
        "\"Flood I\" : \"Floodland\",\n",
        "\"Flood II\" : \"Floodland\",\n",
        "\"Floorshow\" : \"Reptile House\",\n",
        "\"Giving Ground\" : \"Floodland\",\n",
        "\"Good Things\" : \"Reptile House\",\n",
        "\"Heartland\" : \"Reptile House\",\n",
        "\"I Have Slept With All The Girls In Berlin\" : \"Post-VT Live Only\",\n",
        "\"I Was Wrong\" : \"Vision Thing\",\n",
        "\"I Will Call You\" : \"Post-VT Live Only\",\n",
        "\"Jihad\" : \"Floodland\",\n",
        "\"Kiss The Carpet\" : \"Reptile House\",\n",
        "\"Lights\" : \"Reptile House\",\n",
        "\"Lucretia, My Reflection\" : \"Floodland\",\n",
        "\"Marian\" : \"FALAA\",\n",
        "\"Mother Russia\" : \"Floodland\",\n",
        "\"More\" : \"Vision Thing\",\n",
        "\"Never Land\" : \"Floodland\",\n",
        "\"Nine While Nine\" : \"FALAA\",\n",
        "\"No Time To Cry\" : \"FALAA\",\n",
        "\"On The Wire\" : \"FALAA\",\n",
        "\"Phantom\" : \"Reptile House\",\n",
        "\"Poison Door\" : \"FALAA\",\n",
        "\"Possession\" : \"FALAA\",\n",
        "\"Rain From Heaven\" : \"Floodland\",\n",
        "\"Ribbons\" : \"Vision Thing\",\n",
        "\"Romeo Down\" : \"Post-VT Live Only\",\n",
        "\"Show Me\" : \"Post-VT Live Only\",\n",
        "\"Some Kind Of Stranger\" : \"FALAA\",\n",
        "\"Something Fast\" : \"Vision Thing\",\n",
        "\"Still\" : \"Post-VT Live Only\",\n",
        "\"Summer\" : \"Post-VT Live Only\",\n",
        "\"Temple Of Love\" : \"Reptile House\",\n",
        "\"The Damage Done\" : \"Damage/Watch\",\n",
        "\"This Corrosion\" : \"Floodland\",\n",
        "\"Torch\" : \"Floodland\",\n",
        "\"Train\" : \"FALAA\",\n",
        "\"Under The Gun\" : \"Post-VT Live Only\",\n",
        "\"Valentine\" : \"Reptile House\",\n",
        "\"Vision Thing\" : \"Vision Thing\",\n",
        "\"Walk Away\" : \"FALAA\",\n",
        "\"War On Drugs\" : \"Post-VT Live Only\",\n",
        "\"Watch\" : \"Damage/Watch\",\n",
        "\"We Are The Same, Susanne\" : \"Post-VT Live Only\",\n",
        "\"When You Don't See Me\" : \"Vision Thing\",\n",
        "\"Wide Receiver\" : \"FALAA\",\n",
        "\"Will I Dream?\" : \"Post-VT Live Only\",\n",
        "\"You Could Be The One\" : \"Vision Thing\",              \n",
        "}"
      ],
      "metadata": {
        "id": "Xi2JvWx0yOUX"
      },
      "execution_count": 56,
      "outputs": []
    },
    {
      "cell_type": "code",
      "source": [
        "tsom[\"Title\"] = pd.Categorical(tsom[\"Title\"], categories=all_titles)\n",
        "tsom[\"ArtistGenre\"] = pd.Categorical(tsom[\"ArtistGenre\"])\n",
        "tsom[\"CoverType\"] = pd.Categorical(tsom[\"CoverType\"])"
      ],
      "metadata": {
        "id": "GxyStYdSxNyS"
      },
      "execution_count": 57,
      "outputs": []
    },
    {
      "cell_type": "code",
      "source": [
        "tsom[\"lineup\"] = tsom[\"Title\"].map(lineup_map)"
      ],
      "metadata": {
        "id": "5VNM12Ef9Yin"
      },
      "execution_count": 58,
      "outputs": []
    },
    {
      "cell_type": "markdown",
      "source": [
        "# Methodology\n",
        "\n",
        "Basically, I did a lot of detailed searching on each platform. I worked through the list of released and unreleased TSOM and Sisterhood tracks making queries for covers of each. I tried a variety of alternate names for the track and band where applicable. \n",
        "\n",
        "Where the platforms supported public playlists, and there are Sisters playlists, I perused all of those for applicable covers. \n",
        "\n",
        "Finally, I dug through old Heartland threads about covers and picked up some material that I missed, although often old links were dead.\n",
        "\n",
        "\"Lucretia, My Reflection\" has the most variety of annoying incorrect spellings, although I didn't record that data. Bandcamp was most irritating platform because it doesn't support playlists.\n",
        "\n",
        "Despite all this I'm sure I missed some material and expect to be loudly informed about it.\n",
        "\n",
        "On all platforms I **disqualified** the following material as a \"cover\" and excluded it from the data set:\n",
        "\n",
        "* Live or studio bootlegs of the real band.\n",
        "* Rips of released material.\n",
        "* Techno remixes of original material.\n",
        "* Vocal covers over original material (please don't ever do this on YouTube).\n",
        "* Mashups of original material (sorry Project Kiss Kass).\n",
        "* \"Covers of the Sisters\" *own* covers (e.g. Emma; more common than you'd think).\n",
        "* Solo instrumental parts (sorry Wayne and all the YouTube bassists).\n",
        "* Speed Kings and NME.\n",
        "* Music from those *goddam* karaoke vendors.\n",
        "* Covers of that Leonard Cohen song\n",
        "* Abrimaal"
      ],
      "metadata": {
        "id": "ny6aFTrpF9l5"
      }
    },
    {
      "cell_type": "markdown",
      "source": [
        "# Songs\n",
        "\n",
        "Let's look at total covers.\n",
        "\n",
        "Everyone and his dog has covered **Lucretia** (154), and this *after* I excluded countless \"watch me play the Lucretia bassline\" YouTube videos. **Alice** (95) and **Marian** (71) are clear second and third places, then **Temple Of Love** (59) and **This Corrosion** (58) are neck and neck. **No Time To Cry** (28) may be a surprise at number 6. **First And Last And Always** (27), **Dominion** (27), **Black Planet** (24) and **Something Fast** (24) round out the top 10.\n",
        "\n",
        "**Driven Like The Snow** (17) and **1959** (15) make strong showings for songs that have never been performed in the live set, speaking to the enduring strength of the Floodland material.\n",
        "\n",
        "For one of the better songs on its album **Possession** (3) has surprisingly few covers. Is this one hard to play, or hard to sing? Same could be said about **Ribbons** (6).\n",
        "\n",
        "The Steinman collaborations (This Corrosion, Dominion/Mother Russia and More) account for 10.6% of the total covers.\n",
        "\n",
        "Of the released material, I didn't find any covers of **Watch** and **Phantom**. I'm not surprised by the latter. But Watch deserves a cover or two - it lasted longer in the live set than Damage and the later iterations were better than the released single.\n",
        "\n",
        "Including unreleased material: **Driver**, **Wide Receiver**, **Better Reptile** and **I Will Call You** are not represented in the data set (I didn't consider Body Politic and Burn It Down to be unique tracks). Wide Receiver is garbage, but Driver is a good song and I was surprised not to find any covers. For the two recent songs I guess we need Von to tell us the actual lyrics before anyone tries them. Maybe a cover that embraces the indistinct mumbling is the way to go?"
      ],
      "metadata": {
        "id": "k5EuzVQBGDDr"
      }
    },
    {
      "cell_type": "code",
      "source": [
        "tsom[\"Title\"].value_counts()"
      ],
      "metadata": {
        "colab": {
          "base_uri": "https://localhost:8080/"
        },
        "id": "XbZsg7yesYH0",
        "outputId": "3087f97d-8879-418e-a534-ec6985131fc2"
      },
      "execution_count": 59,
      "outputs": [
        {
          "output_type": "execute_result",
          "data": {
            "text/plain": [
              "Lucretia, My Reflection                      154\n",
              "Alice                                         95\n",
              "Marian                                        71\n",
              "Temple Of Love                                59\n",
              "This Corrosion                                58\n",
              "No Time To Cry                                28\n",
              "First And Last And Always                     27\n",
              "Dominion                                      27\n",
              "Black Planet                                  24\n",
              "Something Fast                                23\n",
              "When You Don't See Me                         22\n",
              "Body Electric                                 21\n",
              "More                                          20\n",
              "Heartland                                     18\n",
              "Walk Away                                     18\n",
              "Vision Thing                                  18\n",
              "Some Kind Of Stranger                         18\n",
              "Nine While Nine                               17\n",
              "Driven Like The Snow                          17\n",
              "I Was Wrong                                   14\n",
              "1959                                          14\n",
              "Floorshow                                     13\n",
              "Giving Ground                                 13\n",
              "Burn                                          12\n",
              "Never Land                                    11\n",
              "We Are The Same, Susanne                      11\n",
              "Body And Soul                                 11\n",
              "Amphetamine Logic                             10\n",
              "Fix                                           10\n",
              "Poison Door                                   10\n",
              "Valentine                                      8\n",
              "Afterhours                                     6\n",
              "Adrenochrome                                   6\n",
              "Lights                                         6\n",
              "Ribbons                                        6\n",
              "Summer                                         5\n",
              "Good Things                                    5\n",
              "A Rock And A Hard Place                        5\n",
              "Anaconda                                       5\n",
              "Train                                          5\n",
              "Torch                                          5\n",
              "Bury Me Deep                                   4\n",
              "On The Wire                                    4\n",
              "The Damage Done                                4\n",
              "Under The Gun                                  4\n",
              "Possession                                     3\n",
              "Rain From Heaven                               3\n",
              "Kiss The Carpet                                3\n",
              "Detonation Boulevard                           3\n",
              "I Have Slept With All The Girls In Berlin      3\n",
              "Colours                                        3\n",
              "Still                                          2\n",
              "You Could Be The One                           2\n",
              "Arms                                           2\n",
              "Flood II                                       2\n",
              "Finland Red, Egypt White                       2\n",
              "Blood Money                                    2\n",
              "Doctor Jeep                                    2\n",
              "Crash And Burn                                 2\n",
              "Romeo Down                                     1\n",
              "But Genevieve                                  1\n",
              "Will I Dream?                                  1\n",
              "War On Drugs                                   1\n",
              "Black Sail                                     1\n",
              "Come Together                                  1\n",
              "Show Me                                        1\n",
              "Flood I                                        1\n",
              "Mother Russia                                  1\n",
              "Jihad                                          1\n",
              "Driver                                         0\n",
              "I Will Call You                                0\n",
              "Watch                                          0\n",
              "Better Reptile                                 0\n",
              "Wide Receiver                                  0\n",
              "Phantom                                        0\n",
              "Name: Title, dtype: int64"
            ]
          },
          "metadata": {},
          "execution_count": 59
        }
      ]
    },
    {
      "cell_type": "code",
      "source": [
        "tsom[\"Title\"].value_counts(normalize=True).mul(100).round(1).astype(str) + '%'"
      ],
      "metadata": {
        "colab": {
          "base_uri": "https://localhost:8080/"
        },
        "id": "fV5wQbdJGSl8",
        "outputId": "e6539139-6cad-465e-f7ec-442bb8ff9e74"
      },
      "execution_count": 60,
      "outputs": [
        {
          "output_type": "execute_result",
          "data": {
            "text/plain": [
              "Lucretia, My Reflection                      15.6%\n",
              "Alice                                         9.6%\n",
              "Marian                                        7.2%\n",
              "Temple Of Love                                6.0%\n",
              "This Corrosion                                5.9%\n",
              "No Time To Cry                                2.8%\n",
              "First And Last And Always                     2.7%\n",
              "Dominion                                      2.7%\n",
              "Black Planet                                  2.4%\n",
              "Something Fast                                2.3%\n",
              "When You Don't See Me                         2.2%\n",
              "Body Electric                                 2.1%\n",
              "More                                          2.0%\n",
              "Heartland                                     1.8%\n",
              "Walk Away                                     1.8%\n",
              "Vision Thing                                  1.8%\n",
              "Some Kind Of Stranger                         1.8%\n",
              "Nine While Nine                               1.7%\n",
              "Driven Like The Snow                          1.7%\n",
              "I Was Wrong                                   1.4%\n",
              "1959                                          1.4%\n",
              "Floorshow                                     1.3%\n",
              "Giving Ground                                 1.3%\n",
              "Burn                                          1.2%\n",
              "Never Land                                    1.1%\n",
              "We Are The Same, Susanne                      1.1%\n",
              "Body And Soul                                 1.1%\n",
              "Amphetamine Logic                             1.0%\n",
              "Fix                                           1.0%\n",
              "Poison Door                                   1.0%\n",
              "Valentine                                     0.8%\n",
              "Afterhours                                    0.6%\n",
              "Adrenochrome                                  0.6%\n",
              "Lights                                        0.6%\n",
              "Ribbons                                       0.6%\n",
              "Summer                                        0.5%\n",
              "Good Things                                   0.5%\n",
              "A Rock And A Hard Place                       0.5%\n",
              "Anaconda                                      0.5%\n",
              "Train                                         0.5%\n",
              "Torch                                         0.5%\n",
              "Bury Me Deep                                  0.4%\n",
              "On The Wire                                   0.4%\n",
              "The Damage Done                               0.4%\n",
              "Under The Gun                                 0.4%\n",
              "Possession                                    0.3%\n",
              "Rain From Heaven                              0.3%\n",
              "Kiss The Carpet                               0.3%\n",
              "Detonation Boulevard                          0.3%\n",
              "I Have Slept With All The Girls In Berlin     0.3%\n",
              "Colours                                       0.3%\n",
              "Still                                         0.2%\n",
              "You Could Be The One                          0.2%\n",
              "Arms                                          0.2%\n",
              "Flood II                                      0.2%\n",
              "Finland Red, Egypt White                      0.2%\n",
              "Blood Money                                   0.2%\n",
              "Doctor Jeep                                   0.2%\n",
              "Crash And Burn                                0.2%\n",
              "Romeo Down                                    0.1%\n",
              "But Genevieve                                 0.1%\n",
              "Will I Dream?                                 0.1%\n",
              "War On Drugs                                  0.1%\n",
              "Black Sail                                    0.1%\n",
              "Come Together                                 0.1%\n",
              "Show Me                                       0.1%\n",
              "Flood I                                       0.1%\n",
              "Mother Russia                                 0.1%\n",
              "Jihad                                         0.1%\n",
              "Driver                                        0.0%\n",
              "I Will Call You                               0.0%\n",
              "Watch                                         0.0%\n",
              "Better Reptile                                0.0%\n",
              "Wide Receiver                                 0.0%\n",
              "Phantom                                       0.0%\n",
              "Name: Title, dtype: object"
            ]
          },
          "metadata": {},
          "execution_count": 60
        }
      ]
    },
    {
      "cell_type": "markdown",
      "source": [
        "# Genres\n",
        "I assigned a genre to each cover after listening to it. This part of the analysis is obviously somewhat subjective so take it with a pinch of salt.\n",
        "\n",
        "\"Straight\" covers are those done in the style of the original material, otherwise I picked from broad genre buckets. \n",
        "\n",
        "53% are **Straight** covers. These are all the cover bands and tribute acts, many of the fan-made amateur covers, and a variety of professional dodgy darklings. And techno fans of The Sisterhood.\n",
        "\n",
        "Nearly 15% are from some \"**Electronic**\" genre (when the original track isn't). No I don't care about the difference between your acid house vs synth pop. \"Chiptune\"-style covers are in this bucket too.\n",
        "\n",
        "\"**Metal**\" is next at 12%. I did initially break out a couple of subgenres mostly because I am more familiar with the landscape here. Eventually I just rolled them up into the Metal bucket.\n",
        "\n",
        "\"**Acoustic**\" is fourth at 9%. I included unplugged guitar, piano, and random unpowered instruments like ukulele, violin etc in here.\n",
        "\n",
        "\"**Alternative**\" (6%) is the last significant category and is basically defined by the \"alternative\" recommendations that Bandcamp sends me weekly. A lot of artists self-identify as some kind of \"alternative\" too so this isn't completely subjective.\n",
        "\n",
        "Industrial, A Capella, Punk, Country, Hip Hop, LoFi, Reggae, Soul and Jazz represent the long tail of genres with very few covers each."
      ],
      "metadata": {
        "id": "6BwzgMMZMBrx"
      }
    },
    {
      "cell_type": "code",
      "source": [
        "tsom[\"CoverType\"].value_counts(normalize=True).mul(100).round(1).astype(str) + '%'"
      ],
      "metadata": {
        "colab": {
          "base_uri": "https://localhost:8080/"
        },
        "id": "9C--qgOOuSq6",
        "outputId": "98ad1878-f4c6-4057-ccc9-a5c2dfa1d125"
      },
      "execution_count": 61,
      "outputs": [
        {
          "output_type": "execute_result",
          "data": {
            "text/plain": [
              "Straight       52.5%\n",
              "Electronic     14.8%\n",
              "Metal          11.6%\n",
              "Acoustic        9.3%\n",
              "Alternative     6.2%\n",
              "Darkwave        2.6%\n",
              "Industrial      1.0%\n",
              "Punk            0.6%\n",
              "Country         0.5%\n",
              "Hip Hop         0.2%\n",
              "Soul            0.1%\n",
              "Unknown         0.1%\n",
              "Jazz            0.1%\n",
              "Reggae          0.1%\n",
              "LoFi            0.1%\n",
              "Grindcore       0.1%\n",
              "Vocal           0.1%\n",
              "Name: CoverType, dtype: object"
            ]
          },
          "metadata": {},
          "execution_count": 61
        }
      ]
    },
    {
      "cell_type": "markdown",
      "source": [
        "# Genre by Song\n",
        "\n",
        "Let's dig deeper into the tracks with 20 or more covers.\n",
        "\n",
        "**Something Fast** has the most Straight covers (70%). Basically everyone in a lockdown with a guitar and a laptop drum machine put a cover of this on YouTube.\n",
        "\n",
        "Discounting that, **Alice** (64%), **Body Electric** (62%) and **Dominion** (52%) are most likely to be in the setlist of a tribute band near you. I am surprised **Marian** (51%) is as low as fourth. **No Time To Cry** has the least Straight covers at 21%.\n",
        "\n",
        "**Dominion** (26%), **Body Electric** (24%) and **Lucretia** (23%) are beloved of the Electronic music community. **Something Fast** has zero techno covers even though it's name has some amusing synergy with the genre. \n",
        "\n",
        "Fully 42% of **No Time To Cry** covers are Metal. There is a cluster of metalheads who have redone the well-known Cradle Of Filth cover (not all of who seem to realise it's originally from the Sisters) making it arguably the most influential Sisters cover in any genre. **This Corrosion** (28%), **Black Planet** (25%) and **More** (25%) are other favourites in this genre. **Alice** (2%) has the fewest metal covers.\n",
        "\n",
        "People with a guitar and an emo reach for **Some Kind Of Stranger** - 35% of its covers are Acoustic. **When You Don't See Me** (23%), **Something Fast** (21%) and **Marian** (18%) are obvious acoustic covers, **This Corrosion** (17%)maybe less so at #5. **Body Electric** has no acoustic covers and that is something I'd like to hear."
      ],
      "metadata": {
        "id": "Q95dVIvJaTS8"
      }
    },
    {
      "cell_type": "code",
      "source": [
        "filtered = tsom.groupby(\"Title\").filter(lambda x : len(x) >= 20)\n",
        "\n",
        "print(\"Straight covers\")\n",
        "print(\"-------------------\")\n",
        "print((filtered[filtered[\"CoverType\"]==\"Straight\"][\"Title\"].value_counts() / filtered[\"Title\"].value_counts() *100).sort_values(ascending=False).head(20).round(1).astype(str) + '%')\n",
        "\n",
        "print(\"\\nElectronic covers\")\n",
        "print(\"-------------------\")\n",
        "print((filtered[filtered[\"CoverType\"]==\"Electronic\"][\"Title\"].value_counts() / filtered[\"Title\"].value_counts() *100).sort_values(ascending=False).head(20).round(1).astype(str) + '%')\n",
        "\n",
        "print(\"\\nMetal covers\")\n",
        "print(\"-------------------\")\n",
        "print ((filtered[filtered[\"CoverType\"]==\"Metal\"][\"Title\"].value_counts() / filtered[\"Title\"].value_counts() *100).sort_values(ascending=False).head(20).round(1).astype(str) + '%')\n",
        "\n",
        "print(\"\\nAcoustic covers\")\n",
        "print(\"-------------------\")\n",
        "print((filtered[filtered[\"CoverType\"]==\"Acoustic\"][\"Title\"].value_counts() / filtered[\"Title\"].value_counts() *100).sort_values(ascending=False).head(20).round(1).astype(str) + '%')\n"
      ],
      "metadata": {
        "colab": {
          "base_uri": "https://localhost:8080/"
        },
        "id": "N8ZEJnc_UVcL",
        "outputId": "a5981984-d856-46c3-fda9-3fed1df2d5e6"
      },
      "execution_count": 62,
      "outputs": [
        {
          "output_type": "stream",
          "name": "stdout",
          "text": [
            "Straight covers\n",
            "-------------------\n",
            "Something Fast               73.9%\n",
            "Alice                        64.2%\n",
            "Body Electric                61.9%\n",
            "Dominion                     51.9%\n",
            "Marian                       50.7%\n",
            "Lucretia, My Reflection      50.6%\n",
            "More                         50.0%\n",
            "First And Last And Always    44.4%\n",
            "When You Don't See Me        40.9%\n",
            "Temple Of Love               39.0%\n",
            "Black Planet                 37.5%\n",
            "This Corrosion               24.1%\n",
            "No Time To Cry               21.4%\n",
            "1959                          nan%\n",
            "A Rock And A Hard Place       nan%\n",
            "Adrenochrome                  nan%\n",
            "Afterhours                    nan%\n",
            "Amphetamine Logic             nan%\n",
            "Anaconda                      nan%\n",
            "Arms                          nan%\n",
            "Name: Title, dtype: object\n",
            "\n",
            "Electronic covers\n",
            "-------------------\n",
            "Dominion                     25.9%\n",
            "Body Electric                23.8%\n",
            "Lucretia, My Reflection      22.7%\n",
            "No Time To Cry               21.4%\n",
            "Black Planet                 20.8%\n",
            "Alice                        20.0%\n",
            "Temple Of Love               15.3%\n",
            "First And Last And Always    14.8%\n",
            "Marian                       12.7%\n",
            "More                         10.0%\n",
            "When You Don't See Me         9.1%\n",
            "This Corrosion                5.2%\n",
            "Something Fast                0.0%\n",
            "1959                          nan%\n",
            "A Rock And A Hard Place       nan%\n",
            "Adrenochrome                  nan%\n",
            "Afterhours                    nan%\n",
            "Amphetamine Logic             nan%\n",
            "Anaconda                      nan%\n",
            "Arms                          nan%\n",
            "Name: Title, dtype: object\n",
            "\n",
            "Metal covers\n",
            "-------------------\n",
            "No Time To Cry               42.9%\n",
            "This Corrosion               29.3%\n",
            "Black Planet                 25.0%\n",
            "More                         25.0%\n",
            "Temple Of Love               16.9%\n",
            "First And Last And Always    14.8%\n",
            "Lucretia, My Reflection      10.4%\n",
            "Marian                        8.5%\n",
            "Body Electric                 4.8%\n",
            "When You Don't See Me         4.5%\n",
            "Something Fast                4.3%\n",
            "Alice                         4.2%\n",
            "Dominion                      3.7%\n",
            "1959                          nan%\n",
            "A Rock And A Hard Place       nan%\n",
            "Adrenochrome                  nan%\n",
            "Afterhours                    nan%\n",
            "Amphetamine Logic             nan%\n",
            "Anaconda                      nan%\n",
            "Arms                          nan%\n",
            "Name: Title, dtype: object\n",
            "\n",
            "Acoustic covers\n",
            "-------------------\n",
            "When You Don't See Me        22.7%\n",
            "Something Fast               21.7%\n",
            "Marian                       18.3%\n",
            "This Corrosion               17.2%\n",
            "More                         15.0%\n",
            "Temple Of Love               11.9%\n",
            "Dominion                     11.1%\n",
            "First And Last And Always    11.1%\n",
            "No Time To Cry               10.7%\n",
            "Alice                         6.3%\n",
            "Lucretia, My Reflection       5.8%\n",
            "Black Planet                  4.2%\n",
            "Body Electric                 0.0%\n",
            "1959                          nan%\n",
            "A Rock And A Hard Place       nan%\n",
            "Adrenochrome                  nan%\n",
            "Afterhours                    nan%\n",
            "Amphetamine Logic             nan%\n",
            "Anaconda                      nan%\n",
            "Arms                          nan%\n",
            "Name: Title, dtype: object\n"
          ]
        }
      ]
    },
    {
      "cell_type": "markdown",
      "source": [
        "# Diversity\n",
        "\n",
        "I hacked up a \"diversity index\" for each song by using the sum of squares of the proportions of each genre per song, inverted because big numbers are better.\n",
        "\n",
        "Once again taking the songs with more than 20 total covers, **This Corrosion** stands out with the most diverse group of covers. Something about it's combination of cocky beats, relentless groove and over-the-top angst clearly appeals to a wide range of artists.\n",
        "\n",
        "**Temple Of Love** is in a clear second place, also attracting the attention of a wide variety of musical styles. **Black Planet**, **First And Last And Always** and **When You Don't See Me** round out the \"diversity\" top 5.\n",
        "\n",
        "**Something Fast** props up the bottom of the list because all it's covers are either straight or acoustic (i.e. straight without drums). **Alice** and **Body Electric** are a predictably second and third least diverse."
      ],
      "metadata": {
        "id": "vevpuqRj5dlZ"
      }
    },
    {
      "cell_type": "code",
      "source": [
        "filtered = tsom.groupby(\"Title\").filter(lambda x : len(x) >= 20)\n",
        "\n",
        "(filtered.groupby([\"Title\", \"CoverType\"])[\"CoverType\"].count()/tsom.groupby([\"Title\"])[\"Title\"].count()).pow(2).groupby(\"Title\").sum().pow(0.5).pow(-1).sort_values(ascending=False)\n"
      ],
      "metadata": {
        "colab": {
          "base_uri": "https://localhost:8080/"
        },
        "id": "TN7prHUC5cMJ",
        "outputId": "dfecae30-69e2-4787-ccb4-80b78ef95c6b"
      },
      "execution_count": 63,
      "outputs": [
        {
          "output_type": "execute_result",
          "data": {
            "text/plain": [
              "Title\n",
              "1959                                              inf\n",
              "Show Me                                           inf\n",
              "I Will Call You                                   inf\n",
              "A Rock And A Hard Place                           inf\n",
              "Kiss The Carpet                                   inf\n",
              "Lights                                            inf\n",
              "Mother Russia                                     inf\n",
              "Never Land                                        inf\n",
              "Nine While Nine                                   inf\n",
              "On The Wire                                       inf\n",
              "Phantom                                           inf\n",
              "Poison Door                                       inf\n",
              "Possession                                        inf\n",
              "Rain From Heaven                                  inf\n",
              "Ribbons                                           inf\n",
              "Romeo Down                                        inf\n",
              "Some Kind Of Stranger                             inf\n",
              "I Have Slept With All The Girls In Berlin         inf\n",
              "Still                                             inf\n",
              "Summer                                            inf\n",
              "The Damage Done                                   inf\n",
              "Torch                                             inf\n",
              "Train                                             inf\n",
              "Under The Gun                                     inf\n",
              "Valentine                                         inf\n",
              "Vision Thing                                      inf\n",
              "Walk Away                                         inf\n",
              "War On Drugs                                      inf\n",
              "Watch                                             inf\n",
              "We Are The Same, Susanne                          inf\n",
              "Wide Receiver                                     inf\n",
              "Will I Dream?                                     inf\n",
              "I Was Wrong                                       inf\n",
              "Jihad                                             inf\n",
              "Heartland                                         inf\n",
              "Blood Money                                       inf\n",
              "Come Together                                     inf\n",
              "Good Things                                       inf\n",
              "But Genevieve                                     inf\n",
              "Bury Me Deep                                      inf\n",
              "Burn                                              inf\n",
              "Body And Soul                                     inf\n",
              "Black Sail                                        inf\n",
              "Detonation Boulevard                              inf\n",
              "Better Reptile                                    inf\n",
              "Arms                                              inf\n",
              "Anaconda                                          inf\n",
              "Amphetamine Logic                                 inf\n",
              "Afterhours                                        inf\n",
              "Adrenochrome                                      inf\n",
              "Crash And Burn                                    inf\n",
              "Colours                                           inf\n",
              "Doctor Jeep                                       inf\n",
              "Fix                                               inf\n",
              "Giving Ground                                     inf\n",
              "Floorshow                                         inf\n",
              "Flood II                                          inf\n",
              "Flood I                                           inf\n",
              "You Could Be The One                              inf\n",
              "Finland Red, Egypt White                          inf\n",
              "Driver                                            inf\n",
              "Driven Like The Snow                              inf\n",
              "This Corrosion                               2.307116\n",
              "Temple Of Love                               2.105800\n",
              "Black Planet                                 1.986254\n",
              "When You Don't See Me                        1.975658\n",
              "First And Last And Always                    1.953651\n",
              "No Time To Cry                               1.862532\n",
              "Marian                                       1.768930\n",
              "Lucretia, My Reflection                      1.751584\n",
              "More                                         1.702513\n",
              "Dominion                                     1.684214\n",
              "Body Electric                                1.488651\n",
              "Alice                                        1.475219\n",
              "Something Fast                               1.295903\n",
              "dtype: float64"
            ]
          },
          "metadata": {},
          "execution_count": 63
        }
      ]
    },
    {
      "cell_type": "markdown",
      "source": [
        "# Line-up\n",
        "Sorting total covers by era, the **Floodland** \"line-up\" (314) is well out ahead as the most covered, mostly due to the volume of Lucretia (note that I included The Sisterhood tracks in this line-up bucket which may not be entirely fair). **FALAA** (266) and **Reptile House** (263)are pretty even behind that. Despite being an actual live line-up the **Vision Thing** songs (112) are a lot less popular with covering artists. One could make a case for splitting the post-VT live line-ups by lead guitarist or something but I couldn't be arsed.\n",
        "\n",
        "All line-ups have roughly the same proportion of straight covers. Floodland unsurprisingly has the highest proportion of Electronic covers (18%). Vision Thing has both the most Acoustic (16%) and Metal (13%) covers, which might speak to its reach outside the traditional Sisters fanbase."
      ],
      "metadata": {
        "id": "GgfuF70L1SRN"
      }
    },
    {
      "cell_type": "code",
      "source": [
        "tsom[\"lineup\"].value_counts()"
      ],
      "metadata": {
        "colab": {
          "base_uri": "https://localhost:8080/"
        },
        "id": "TNwtz1HwAgjr",
        "outputId": "5944efc9-82e6-4440-d042-aef9612f93a4"
      },
      "execution_count": 64,
      "outputs": [
        {
          "output_type": "execute_result",
          "data": {
            "text/plain": [
              "Floodland            312\n",
              "FALAA                263\n",
              "Reptile House        261\n",
              "Vision Thing         110\n",
              "Post-VT Live Only     36\n",
              "Damage/Watch           4\n",
              "Name: lineup, dtype: int64"
            ]
          },
          "metadata": {},
          "execution_count": 64
        }
      ]
    },
    {
      "cell_type": "code",
      "source": [
        "filtered = tsom\n",
        "\n",
        "print(\"\\nFloodland\")\n",
        "print(\"-------------------\")\n",
        "print((filtered[filtered[\"lineup\"]==\"Floodland\"].groupby(\"CoverType\")[\"Title\"].count()/filtered[filtered[\"lineup\"]==\"Floodland\"][\"Title\"].count()*100).sort_values(ascending=False).head(20).round(1).astype(str) + '%')\n",
        "\n",
        "print(\"\\nFALAA\")\n",
        "print(\"-------------------\")\n",
        "print((filtered[filtered[\"lineup\"]==\"FALAA\"].groupby(\"CoverType\")[\"Title\"].count()/filtered[filtered[\"lineup\"]==\"FALAA\"][\"Title\"].count()*100).sort_values(ascending=False).head(20).round(1).astype(str) + '%')\n",
        "\n",
        "print(\"\\nReptile House\")\n",
        "print(\"-------------------\")\n",
        "print((filtered[filtered[\"lineup\"]==\"Reptile House\"].groupby(\"CoverType\")[\"Title\"].count()/filtered[filtered[\"lineup\"]==\"Reptile House\"][\"Title\"].count()*100).sort_values(ascending=False).head(20).round(1).astype(str) + '%')\n",
        "\n",
        "print(\"\\nVision Thing\")\n",
        "print(\"-------------------\")\n",
        "print((filtered[filtered[\"lineup\"]==\"Vision Thing\"].groupby(\"CoverType\")[\"Title\"].count()/filtered[filtered[\"lineup\"]==\"Vision Thing\"][\"Title\"].count()*100).sort_values(ascending=False).head(20).round(1).astype(str) + '%')\n"
      ],
      "metadata": {
        "colab": {
          "base_uri": "https://localhost:8080/"
        },
        "id": "PHe5jwpw2Man",
        "outputId": "a4821956-7e74-4555-d72d-c92e08b8c510"
      },
      "execution_count": 65,
      "outputs": [
        {
          "output_type": "stream",
          "name": "stdout",
          "text": [
            "\n",
            "Floodland\n",
            "-------------------\n",
            "CoverType\n",
            "Straight       47.4%\n",
            "Electronic     18.3%\n",
            "Metal          11.9%\n",
            "Acoustic        8.0%\n",
            "Alternative     7.7%\n",
            "Darkwave        2.2%\n",
            "Country         1.6%\n",
            "Hip Hop         0.6%\n",
            "Industrial      0.6%\n",
            "Soul            0.3%\n",
            "Unknown         0.3%\n",
            "Jazz            0.3%\n",
            "Punk            0.3%\n",
            "Vocal           0.3%\n",
            "Reggae          0.0%\n",
            "LoFi            0.0%\n",
            "Grindcore       0.0%\n",
            "Name: Title, dtype: object\n",
            "\n",
            "FALAA\n",
            "-------------------\n",
            "CoverType\n",
            "Straight       51.0%\n",
            "Electronic     14.8%\n",
            "Metal          14.8%\n",
            "Acoustic       10.6%\n",
            "Alternative     5.7%\n",
            "Darkwave        1.9%\n",
            "Industrial      0.8%\n",
            "Grindcore       0.4%\n",
            "Reggae          0.0%\n",
            "Unknown         0.0%\n",
            "Soul            0.0%\n",
            "Jazz            0.0%\n",
            "Punk            0.0%\n",
            "LoFi            0.0%\n",
            "Hip Hop         0.0%\n",
            "Country         0.0%\n",
            "Vocal           0.0%\n",
            "Name: Title, dtype: object\n",
            "\n",
            "Reptile House\n",
            "-------------------\n",
            "CoverType\n",
            "Straight       55.9%\n",
            "Electronic     14.9%\n",
            "Metal           8.8%\n",
            "Acoustic        7.7%\n",
            "Alternative     5.4%\n",
            "Darkwave        3.8%\n",
            "Industrial      1.5%\n",
            "Punk            1.1%\n",
            "Reggae          0.4%\n",
            "LoFi            0.4%\n",
            "Unknown         0.0%\n",
            "Soul            0.0%\n",
            "Jazz            0.0%\n",
            "Hip Hop         0.0%\n",
            "Grindcore       0.0%\n",
            "Country         0.0%\n",
            "Vocal           0.0%\n",
            "Name: Title, dtype: object\n",
            "\n",
            "Vision Thing\n",
            "-------------------\n",
            "CoverType\n",
            "Straight       56.4%\n",
            "Acoustic       16.4%\n",
            "Metal          12.7%\n",
            "Electronic      5.5%\n",
            "Alternative     3.6%\n",
            "Darkwave        2.7%\n",
            "Punk            1.8%\n",
            "Industrial      0.9%\n",
            "Unknown         0.0%\n",
            "Soul            0.0%\n",
            "Reggae          0.0%\n",
            "Jazz            0.0%\n",
            "LoFi            0.0%\n",
            "Hip Hop         0.0%\n",
            "Grindcore       0.0%\n",
            "Country         0.0%\n",
            "Vocal           0.0%\n",
            "Name: Title, dtype: object\n"
          ]
        }
      ]
    },
    {
      "cell_type": "code",
      "source": [
        "tsom[\"Year\"].value_counts(normalize=True).mul(100).round(1).astype(str) + '%'"
      ],
      "metadata": {
        "id": "E1pruidmu-BY",
        "colab": {
          "base_uri": "https://localhost:8080/"
        },
        "outputId": "fc717f67-8c8a-4f87-8839-e43ce7e812c2"
      },
      "execution_count": 66,
      "outputs": [
        {
          "output_type": "execute_result",
          "data": {
            "text/plain": [
              "2021    14.2%\n",
              "2019    10.2%\n",
              "2020     9.3%\n",
              "2015     8.1%\n",
              "2017     7.8%\n",
              "2016     7.6%\n",
              "2013     7.0%\n",
              "2012     6.7%\n",
              "2018     6.6%\n",
              "2014     6.3%\n",
              "2011     3.7%\n",
              "2010     2.3%\n",
              "2022     1.9%\n",
              "2000     1.8%\n",
              "2008     1.5%\n",
              "2007     1.4%\n",
              "2009     1.2%\n",
              "2001     0.4%\n",
              "2006     0.2%\n",
              "1993     0.2%\n",
              "1995     0.2%\n",
              "1996     0.2%\n",
              "1997     0.2%\n",
              "2005     0.2%\n",
              "1998     0.1%\n",
              "2003     0.1%\n",
              "1992     0.1%\n",
              "2004     0.1%\n",
              "1991     0.1%\n",
              "2002     0.1%\n",
              "Name: Year, dtype: object"
            ]
          },
          "metadata": {},
          "execution_count": 66
        }
      ]
    },
    {
      "cell_type": "markdown",
      "source": [
        "# Artist\n",
        "\n",
        "The median Sisters covers per artist is 1. Most people are happy doing one Sisters cover and then moving on with their lives. The mean is 1.2 but that is propped up by some outliers at the top.\n",
        "\n",
        "81 artists covered 2 or more songs. **Brad Salyn** (20) is the most prolific. **nmacog** (15) and **botchandango** (10) are the others in double digits. Look these guys up on Soundcloud and YouTube.\n",
        "\n",
        "This data doesn't represent the tribute bands very well because of the limited vids of them that exist on YouTube.\n",
        "\n"
      ],
      "metadata": {
        "id": "LDrQ2zSKOVKO"
      }
    },
    {
      "cell_type": "code",
      "source": [
        "tsom[\"Artist\"].value_counts().describe()"
      ],
      "metadata": {
        "colab": {
          "base_uri": "https://localhost:8080/"
        },
        "id": "AWDgy8MuOgdQ",
        "outputId": "956af612-d9c6-49ae-9e45-edce295871ac"
      },
      "execution_count": 67,
      "outputs": [
        {
          "output_type": "execute_result",
          "data": {
            "text/plain": [
              "count    818.000000\n",
              "mean       1.206601\n",
              "std        1.065817\n",
              "min        1.000000\n",
              "25%        1.000000\n",
              "50%        1.000000\n",
              "75%        1.000000\n",
              "max       20.000000\n",
              "Name: Artist, dtype: float64"
            ]
          },
          "metadata": {},
          "execution_count": 67
        }
      ]
    },
    {
      "cell_type": "code",
      "source": [
        "print(tsom[\"Artist\"].value_counts()[lambda x : x>=2].count())\n",
        "tsom[\"Artist\"].value_counts().head(10)\n"
      ],
      "metadata": {
        "colab": {
          "base_uri": "https://localhost:8080/"
        },
        "id": "GxsqeF-dFXsi",
        "outputId": "e1a3984f-1c74-43b0-becf-15bddb2e89ed"
      },
      "execution_count": 68,
      "outputs": [
        {
          "output_type": "stream",
          "name": "stdout",
          "text": [
            "80\n"
          ]
        },
        {
          "output_type": "execute_result",
          "data": {
            "text/plain": [
              "Brad Salyn                   20\n",
              "Nmacog                       15\n",
              "Botchandango                 10\n",
              "madsmith                      9\n",
              "Zombie Thirteen               7\n",
              "Blumenhofen                   6\n",
              "Temple of Mercy               5\n",
              "Tobias Forsner/leftydrake     4\n",
              "The Sisters Of Murphy         4\n",
              "Paranoid Android              4\n",
              "Name: Artist, dtype: int64"
            ]
          },
          "metadata": {},
          "execution_count": 68
        }
      ]
    },
    {
      "cell_type": "markdown",
      "source": [
        "# Year\n",
        "\n",
        "**2021** was the biggest year by far for Sisters covers (141), followed by **2019** (101) and **2020** (92). In general, the number of Sisters covers each year has grown almost every year that I have data for, with a noticeable spike in 2000 when that unspeakable tribute album came out. \n",
        "\n",
        "Some of this is recency bias: more recent covers are easier to find and more likely to still be available on the platforms. But the pandemic effects of the last few years and the increasing ease of making, recording and publishing music online certainly have a role too.\n",
        "\n"
      ],
      "metadata": {
        "id": "qD6o_qJVRwo8"
      }
    },
    {
      "cell_type": "code",
      "source": [
        "tsom.groupby(\"Year\")[\"Year\"].count()"
      ],
      "metadata": {
        "colab": {
          "base_uri": "https://localhost:8080/"
        },
        "id": "VduZwvZMzjzZ",
        "outputId": "9e6a67ea-947b-40e2-ea86-e74ced4392c1"
      },
      "execution_count": 69,
      "outputs": [
        {
          "output_type": "execute_result",
          "data": {
            "text/plain": [
              "Year\n",
              "1991      1\n",
              "1992      1\n",
              "1993      2\n",
              "1995      2\n",
              "1996      2\n",
              "1997      2\n",
              "1998      1\n",
              "2000     18\n",
              "2001      4\n",
              "2002      1\n",
              "2003      1\n",
              "2004      1\n",
              "2005      2\n",
              "2006      2\n",
              "2007     14\n",
              "2008     15\n",
              "2009     12\n",
              "2010     23\n",
              "2011     37\n",
              "2012     66\n",
              "2013     69\n",
              "2014     62\n",
              "2015     80\n",
              "2016     75\n",
              "2017     77\n",
              "2018     65\n",
              "2019    101\n",
              "2020     92\n",
              "2021    140\n",
              "2022     19\n",
              "Name: Year, dtype: int64"
            ]
          },
          "metadata": {},
          "execution_count": 69
        }
      ]
    },
    {
      "cell_type": "markdown",
      "source": [
        "# Platform\n",
        "\n",
        "**Spotify** has the least covers (72). These are mostly established professional artists  with record company deals. **Bandcamp** (81) has only slightly more. I suppose these artists are also professional but less established and/or successful.\n",
        "\n",
        "**SoundCloud** (401) has lots of covers. Most are solidly in the realm of amateur (disclosure: my own included), or at least \"musician isn't my only job\" artists. \n",
        "\n",
        "**YouTube** (620) has the most covers. This is basically the full gamut from pros who are also on Spotify, to less established bands, to talented amateurs, to your uncle Bob and his dog covering Something Fast.\n",
        "\n",
        "There was less overlap that I expected. 85% of covers were on one platform only and 13% were on two platforms. I found only *3* total covers on all four platforms - shout out to the marketing teams for Cradle Of Filth, The Court Of Sybaris and Sleepmask.\n",
        "\n",
        "Rehashing the diversity index (heh) suggests the **Bandcamp** hosts the least diversity of covers, which is disappointing. For whatever reason, the covers there are largely straight derivatives of the original material. **Spotify** and **SoundCloud** are better. I expected SoundCloud to top the diversity stakes but that honour is held by **YouTube**, even after applying my strict filtering criteria."
      ],
      "metadata": {
        "id": "OmytVmohe0gh"
      }
    },
    {
      "cell_type": "code",
      "source": [
        "tsom.filter([\"spotify\", \"bandcamp\", \"soundcloud\", \"youtube\"]).sum()"
      ],
      "metadata": {
        "colab": {
          "base_uri": "https://localhost:8080/"
        },
        "id": "nZUana7qgLoW",
        "outputId": "cff5759c-c410-4a74-b255-5f34d5dd4100"
      },
      "execution_count": 70,
      "outputs": [
        {
          "output_type": "execute_result",
          "data": {
            "text/plain": [
              "spotify        71\n",
              "bandcamp       80\n",
              "soundcloud    395\n",
              "youtube       619\n",
              "dtype: int64"
            ]
          },
          "metadata": {},
          "execution_count": 70
        }
      ]
    },
    {
      "cell_type": "code",
      "source": [
        "tsom[\"platforms\"] = tsom[\"spotify\"] + tsom[\"bandcamp\"] + tsom[\"soundcloud\"] + tsom[\"youtube\"]\n",
        "\n",
        "print(tsom.groupby(\"platforms\")[\"Title\"].count())\n",
        "\n",
        "tsom.groupby(\"platforms\")[\"Title\"].count() / len(tsom) *100\n",
        "\n"
      ],
      "metadata": {
        "colab": {
          "base_uri": "https://localhost:8080/"
        },
        "id": "J3VYmeF6kGU4",
        "outputId": "3b38c733-a4a4-4adb-b427-bcc95de3692f"
      },
      "execution_count": 71,
      "outputs": [
        {
          "output_type": "stream",
          "name": "stdout",
          "text": [
            "platforms\n",
            "1    833\n",
            "2    132\n",
            "3     18\n",
            "4      3\n",
            "Name: Title, dtype: int64\n"
          ]
        },
        {
          "output_type": "execute_result",
          "data": {
            "text/plain": [
              "platforms\n",
              "1    84.397163\n",
              "2    13.373860\n",
              "3     1.823708\n",
              "4     0.303951\n",
              "Name: Title, dtype: float64"
            ]
          },
          "metadata": {},
          "execution_count": 71
        }
      ]
    },
    {
      "cell_type": "code",
      "source": [
        "filtered = tsom[tsom[\"spotify\"] == 1]\n",
        "print(((filtered.groupby([\"CoverType\"])[\"CoverType\"].count()/len(filtered)).pow(2).sum()) ** 0.5 ** -1 *100)\n",
        "filtered = tsom[tsom[\"bandcamp\"] == 1]\n",
        "print(((filtered.groupby([\"CoverType\"])[\"CoverType\"].count()/len(filtered)).pow(2).sum()) ** 0.5 ** -1 *100)\n",
        "filtered = tsom[tsom[\"soundcloud\"] == 1]\n",
        "print(((filtered.groupby([\"CoverType\"])[\"CoverType\"].count()/len(filtered)).pow(2).sum()) ** 0.5 ** -1 *100)\n",
        "filtered = tsom[tsom[\"youtube\"] == 1]\n",
        "print(((filtered.groupby([\"CoverType\"])[\"CoverType\"].count()/len(filtered)).pow(2).sum()) ** 0.5 ** -1 *100)"
      ],
      "metadata": {
        "colab": {
          "base_uri": "https://localhost:8080/"
        },
        "id": "D_rpWMHHKSni",
        "outputId": "5134be17-e505-498b-b3d6-b8283da1e567"
      },
      "execution_count": 72,
      "outputs": [
        {
          "output_type": "stream",
          "name": "stdout",
          "text": [
            "7.289250168062473\n",
            "7.0556640625\n",
            "9.468760266762985\n",
            "12.0369396673852\n"
          ]
        }
      ]
    },
    {
      "cell_type": "markdown",
      "source": [
        "# Conclusion\n",
        "\n",
        "Other than concluding that I spent way too much time on this, I will leave further interpretation up to the reader. It would be interesting to compare Sisters covers to those from other bands, but it sure ain't gonna be me who collects that data.\n",
        "\n",
        "I will follow this up with a post listing some of my favourite covers discovered during this exercise.\n",
        "\n",
        "PM me if you want to get hold of the data set and the Jupyter notebook (I used Google Colab and Pandas)."
      ],
      "metadata": {
        "id": "q9mmemxSeawh"
      }
    }
  ]
}